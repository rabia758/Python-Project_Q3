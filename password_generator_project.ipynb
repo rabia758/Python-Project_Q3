{
  "nbformat": 4,
  "nbformat_minor": 0,
  "metadata": {
    "colab": {
      "provenance": [],
      "authorship_tag": "ABX9TyOBK36RU/W5pqqO1srWxGYh",
      "include_colab_link": true
    },
    "kernelspec": {
      "name": "python3",
      "display_name": "Python 3"
    },
    "language_info": {
      "name": "python"
    }
  },
  "cells": [
    {
      "cell_type": "markdown",
      "metadata": {
        "id": "view-in-github",
        "colab_type": "text"
      },
      "source": [
        "<a href=\"https://colab.research.google.com/github/rabia758/Python-Project_Q3/blob/main/password_generator_project.ipynb\" target=\"_parent\"><img src=\"https://colab.research.google.com/assets/colab-badge.svg\" alt=\"Open In Colab\"/></a>"
      ]
    },
    {
      "cell_type": "markdown",
      "source": [
        "# **Password Generator app**"
      ],
      "metadata": {
        "id": "cMo5F0kZB3md"
      }
    },
    {
      "cell_type": "code",
      "execution_count": 6,
      "metadata": {
        "colab": {
          "base_uri": "https://localhost:8080/"
        },
        "id": "_bQWYN4sB2ju",
        "outputId": "2d47b91d-885d-40d2-b12f-cb3114ff14a9"
      },
      "outputs": [
        {
          "output_type": "stream",
          "name": "stdout",
          "text": [
            "Welcom To password generator app 🔑\n",
            "Enter The Amount of password to generate: 1\n",
            "Enter The Length Of Password: 9\n",
            "\n",
            " Here Your Generated Pasword! 🔑 \n",
            "w\n",
            "wo\n",
            "wos\n",
            "wos&\n",
            "wos&V\n",
            "wos&V4\n",
            "wos&V4n\n",
            "wos&V4nx\n",
            "wos&V4nxa\n"
          ]
        }
      ],
      "source": [
        "import random\n",
        "print(\"Welcom To password generator app 🔑\")\n",
        "chars = 'abcdefghijklmnopqrstuvwxyzABCDEFGHIJKLMNOPQRSTUVWXYZ!@#$%^&*()?<>,.1234567890'\n",
        "\n",
        "num = int(input(\"Enter The Amount of password to generate: \"))\n",
        "length = int(input(\"Enter The Length Of Password: \"))\n",
        "print(\"\\n Here Your Generated Pasword! 🔑 \")\n",
        "\n",
        "for pwd in range(num):\n",
        "  password = \"\"\n",
        "  for c in range(length):\n",
        "    password += random.choice(chars)\n",
        "    print(password)"
      ]
    },
    {
      "cell_type": "markdown",
      "source": [],
      "metadata": {
        "id": "hj1AnHIaEVS2"
      }
    }
  ]
}