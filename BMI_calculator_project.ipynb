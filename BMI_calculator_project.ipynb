{
  "nbformat": 4,
  "nbformat_minor": 0,
  "metadata": {
    "colab": {
      "provenance": [],
      "authorship_tag": "ABX9TyOsez0zBl+O5DxCD+7QX5Kz",
      "include_colab_link": true
    },
    "kernelspec": {
      "name": "python3",
      "display_name": "Python 3"
    },
    "language_info": {
      "name": "python"
    }
  },
  "cells": [
    {
      "cell_type": "markdown",
      "metadata": {
        "id": "view-in-github",
        "colab_type": "text"
      },
      "source": [
        "<a href=\"https://colab.research.google.com/github/rabia758/Python-Project_Q3/blob/main/BMI_calculator_project.ipynb\" target=\"_parent\"><img src=\"https://colab.research.google.com/assets/colab-badge.svg\" alt=\"Open In Colab\"/></a>"
      ]
    },
    {
      "cell_type": "markdown",
      "source": [
        "# **BMI Calculator Python Project**"
      ],
      "metadata": {
        "id": "iipPOikZIGxw"
      }
    },
    {
      "cell_type": "code",
      "execution_count": 7,
      "metadata": {
        "colab": {
          "base_uri": "https://localhost:8080/"
        },
        "id": "hr-6pHf3IBQT",
        "outputId": "4624248e-0854-4ae6-ff36-f94906437e1b"
      },
      "outputs": [
        {
          "output_type": "stream",
          "name": "stdout",
          "text": [
            "This Programe is to calculate the BMI of an Invidiual...\n",
            "Enter your Name:rabia\n",
            "Enter your weight in kg: 45\n",
            "Enter your height in m: 4.5\n",
            "rabia is underweight by 2.2222222222222223 BMI\n",
            "\n",
            "**BMI Catagories**\n",
            "- Underweight: BMI is less then 18.5\n",
            "- Normal weight: BMI is between 18.5 and 24.9\n",
            "- Overweighted: BMI between 25 and 29.9\n",
            "- Obesity: BMI 30 or greater\n"
          ]
        }
      ],
      "source": [
        "# BMI calculator Means (Body mass Calculator)\n",
        "print(\"This Programe is to calculate the BMI of an Invidiual...\")\n",
        "name = input(\"Enter your Name:\")\n",
        "weight = float(input(\"Enter your weight in kg: \"))\n",
        "height = float(input(\"Enter your height in m: \"))\n",
        "\n",
        "bmi = weight /(height ** 2)\n",
        "if bmi < 25:\n",
        "  print(f\"{name} is underweight by {bmi} BMI\")\n",
        "\n",
        "else:\n",
        "    print(f\"\\n{name}  is overweight by {bmi} BMI\")\n",
        "\n",
        "print(\"\\n**BMI Catagories**\")\n",
        "print(\"- Underweight: BMI is less then 18.5\")\n",
        "print(\"- Normal weight: BMI is between 18.5 and 24.9\")\n",
        "print(\"- Overweighted: BMI between 25 and 29.9\")\n",
        "print(\"- Obesity: BMI 30 or greater\")\n",
        "\n",
        "\n",
        "\n",
        "\n"
      ]
    }
  ]
}