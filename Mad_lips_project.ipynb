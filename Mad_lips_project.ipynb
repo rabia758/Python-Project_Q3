{
  "nbformat": 4,
  "nbformat_minor": 0,
  "metadata": {
    "colab": {
      "provenance": [],
      "toc_visible": true
    },
    "kernelspec": {
      "name": "python3",
      "display_name": "Python 3"
    },
    "language_info": {
      "name": "python"
    }
  },
  "cells": [
    {
      "cell_type": "code",
      "execution_count": null,
      "metadata": {
        "colab": {
          "base_uri": "https://localhost:8080/"
        },
        "id": "MDjV9JarbUGK",
        "outputId": "6a1439cc-715b-4719-bfa8-ad02eeb55b13"
      },
      "outputs": [
        {
          "output_type": "stream",
          "name": "stdout",
          "text": [
            "Welcome To Mad Libs Game! 🎮\n",
            "Let's Play, Shall We? (yes/no): yes\n",
            "Okay, let's play the game! \n",
            "\n",
            "Enter Your Name: rabia\n",
            "Enter Your Friend's Name: rizwan\n",
            "Enter Another Friend's Name: mustufa\n",
            "Enter a Place Name: seaside\n",
            "Enter an Adjective: beautiful\n",
            "Enter Another Adjective: awsome\n",
            "Enter One More Adjective: cool\n",
            "Enter an Adverb: good\n",
            "Enter Another Adverb: bad\n",
            "Enter an Emotion: cool\n",
            "\n",
            "Here's your Mad Libs story:\n",
            "\n",
            "One day, rabia went to seaside. He felt very lonely, even though the view was beautiful. He decided to call his friends rizwan and mustufa.\n",
            "When they came, they told rabia something awsome had happened. rabia went there very good. When he arrived, he found out that his other friend was falling off a cliff! rabia said, 'cool!' Inside, he was feeling cool. rabia managed to save him. After that, they had a bad celebration 🎉. They all laughed 😂 and lived happily ever after!\n"
          ]
        }
      ],
      "source": [
        "print(\"Welcome To Mad Libs Game! 🎮\")\n",
        "\n",
        "playing = input(\"Let's Play, Shall We? (yes/no): \")\n",
        "\n",
        "if playing.lower() != \"yes\":\n",
        "    print(\"Maybe next time! 😊\")\n",
        "    quit()\n",
        "\n",
        "print(\"Okay, let's play the game! \\n\")\n",
        "\n",
        "# Get user inputs\n",
        "noun1 = input(\"Enter Your Name: \")\n",
        "noun2 = input(\"Enter Your Friend's Name: \")\n",
        "noun3 = input(\"Enter Another Friend's Name: \")\n",
        "place = input(\"Enter a Place Name: \")\n",
        "adjective1 = input(\"Enter an Adjective: \")\n",
        "adjective2 = input(\"Enter Another Adjective: \")\n",
        "adjective3 = input(\"Enter One More Adjective: \")\n",
        "adverb1 = input(\"Enter an Adverb: \")\n",
        "adverb2 = input(\"Enter Another Adverb: \")\n",
        "exclamation = input(\"Enter an Emotion: \")\n",
        "\n",
        "# Create the Mad Libs story\n",
        "story = (\n",
        "    f\"One day, {noun1} went to {place}. \"\n",
        "    f\"He felt very lonely, even though the view was {adjective1}. \"\n",
        "    f\"He decided to call his friends {noun2} and {noun3}.\\n\"\n",
        "    f\"When they came, they told {noun1} something {adjective2} had happened. \"\n",
        "    f\"{noun1} went there very {adverb1}. \"\n",
        "    f\"When he arrived, he found out that his other friend was falling off a cliff! \"\n",
        "    f\"{noun1} said, '{exclamation}!' Inside, he was feeling {adjective3}. \"\n",
        "    f\"{noun1} managed to save him. \"\n",
        "    f\"After that, they had a {adverb2} celebration 🎉. \"\n",
        "    f\"They all laughed 😂 and lived happily ever after!\"\n",
        ")\n",
        "\n",
        "# Print the story\n",
        "print(\"\\nHere's your Mad Libs story:\\n\")\n",
        "print(story)\n",
        "\n"
      ]
    },
    {
      "cell_type": "markdown",
      "source": [
        "# New Section"
      ],
      "metadata": {
        "id": "XK9Eb7cOnd6d"
      }
    },
    {
      "cell_type": "code",
      "source": [],
      "metadata": {
        "id": "wENpNCnfnmtp"
      },
      "execution_count": null,
      "outputs": []
    }
  ]
}