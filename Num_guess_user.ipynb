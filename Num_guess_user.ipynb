{
  "nbformat": 4,
  "nbformat_minor": 0,
  "metadata": {
    "colab": {
      "provenance": [],
      "authorship_tag": "ABX9TyPqc1Mbiraj4jUQM4vikIhI",
      "include_colab_link": true
    },
    "kernelspec": {
      "name": "python3",
      "display_name": "Python 3"
    },
    "language_info": {
      "name": "python"
    }
  },
  "cells": [
    {
      "cell_type": "markdown",
      "metadata": {
        "id": "view-in-github",
        "colab_type": "text"
      },
      "source": [
        "<a href=\"https://colab.research.google.com/github/rabia758/Python-Project_Q3/blob/main/Num_guess_user.ipynb\" target=\"_parent\"><img src=\"https://colab.research.google.com/assets/colab-badge.svg\" alt=\"Open In Colab\"/></a>"
      ]
    },
    {
      "cell_type": "markdown",
      "source": [
        "# Number Guessing Game By **User**"
      ],
      "metadata": {
        "id": "LdJzRr-yheNF"
      }
    },
    {
      "cell_type": "code",
      "execution_count": 33,
      "metadata": {
        "id": "GA8CzfcShUMZ",
        "colab": {
          "base_uri": "https://localhost:8080/"
        },
        "outputId": "1f58a8b7-c3a1-4c64-933a-fe56a3fd0743"
      },
      "outputs": [
        {
          "output_type": "stream",
          "name": "stdout",
          "text": [
            "Is 10 too high (H), too low (L), or correct (C)? 6\n",
            "Is 2 too high (H), too low (L), or correct (C)? 5\n",
            "Is 8 too high (H), too low (L), or correct (C)? c\n",
            "Yah! The Computer Guessed Your Number 🎉🎉, 8, Correctly ✅\n"
          ]
        }
      ],
      "source": [
        "import random\n",
        "\n",
        "def comp_guess(x):\n",
        "    low = 1\n",
        "    high = x\n",
        "    feedback = \"\"\n",
        "    while feedback != \"c\":\n",
        "        if low != high:\n",
        "            guess = random.randint(low, high)\n",
        "        else:\n",
        "            guess = low  # When low == high, guess must be low (or high)\n",
        "        feedback = input(f\"Is {guess} too high (H), too low (L), or correct (C)? \").lower()\n",
        "        if feedback == \"h\":\n",
        "            high = guess - 1\n",
        "        elif feedback == \"l\":\n",
        "            low = guess + 1\n",
        "\n",
        "    print(f\"Yah! The Computer Guessed Your Number 🎉🎉, {guess}, Correctly ✅\")\n",
        "\n",
        "# Call the function\n",
        "comp_guess(10)"
      ]
    }
  ]
}